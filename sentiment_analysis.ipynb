{
 "cells": [
  {
   "cell_type": "code",
   "execution_count": 1,
   "id": "f2ae96c6",
   "metadata": {},
   "outputs": [],
   "source": [
    "# Import modules needed for analysis\n",
    "import pandas as pd\n",
    "import numpy as np\n",
    "import seaborn as sns\n",
    "import csv\n",
    "from tensorflow.keras.preprocessing.text import Tokenizer\n",
    "from tensorflow.keras.preprocessing.sequence import pad_sequences\n",
    "from tensorflow.keras.callbacks import EarlyStopping\n",
    "from tensorflow.keras import Sequential, layers\n",
    "from sklearn.model_selection import train_test_split\n",
    "import matplotlib.pyplot as plt"
   ]
  },
  {
   "cell_type": "code",
   "execution_count": 2,
   "id": "e334e56d",
   "metadata": {},
   "outputs": [],
   "source": [
    "#Import Dataset three datasets, adding headers, combined into one dataframe\n",
    "imdb_dataset = \\\n",
    "    pd.read_csv( \\\n",
    "    '/Users/bixbypeterson/Desktop/WGU/D213/Task 2 - Sentiment Analysis /datasets/imdb_labelled.txt', \\\n",
    "    sep='\\t', header=None, names = ['sentences','score'], \\\n",
    "    dtype = {'sentences':str, 'score':np.int32}, quoting=csv.QUOTE_NONE, \\\n",
    "    index_col = False)\n",
    "\n",
    "yelp_dataset = \\\n",
    "    pd.read_csv( \\\n",
    "    '/Users/bixbypeterson/Desktop/WGU/D213/Task 2 - Sentiment Analysis /datasets/yelp_labelled.txt', \\\n",
    "    sep='\\t', header=None, names = ['sentences','score'], \\\n",
    "    dtype = {'sentences':str, 'score':np.int32}, quoting=csv.QUOTE_NONE, \\\n",
    "    index_col = False)\n",
    "\n",
    "amazon_dataset = \\\n",
    "    pd.read_csv( \\\n",
    "    '/Users/bixbypeterson/Desktop/WGU/D213/Task 2 - Sentiment Analysis /datasets/amazon_cells_labelled.txt', \\\n",
    "    sep='\\t', header=None, names = ['sentences','score'], \\\n",
    "    dtype = {'sentences':str, 'score':np.int32}, quoting=csv.QUOTE_NONE, \\\n",
    "    index_col = False)        \n",
    "\n",
    "combined_dataset = pd.concat([amazon_dataset,yelp_dataset,imdb_dataset], ignore_index = True)"
   ]
  },
  {
   "cell_type": "code",
   "execution_count": 3,
   "id": "80432ad2",
   "metadata": {},
   "outputs": [
    {
     "name": "stdout",
     "output_type": "stream",
     "text": [
      "                                           sentences  score\n",
      "0  So there is no way for me to plug it in here i...      0\n",
      "1                        Good case, Excellent value.      1\n",
      "2                             Great for the jawbone.      1\n",
      "3  Tied to charger for conversations lasting more...      0\n",
      "4                                  The mic is great.      1\n",
      "5  I have to jiggle the plug to get it to line up...      0\n",
      "6  If you have several dozen or several hundred c...      0\n",
      "7        If you are Razr owner...you must have this!      1\n",
      "8                Needless to say, I wasted my money.      0\n",
      "9                   What a waste of money and time!.      0 \n",
      "\n",
      " (3000, 2) \n",
      "\n",
      "              score\n",
      "count  3000.000000\n",
      "mean      0.500000\n",
      "std       0.500083\n",
      "min       0.000000\n",
      "25%       0.000000\n",
      "50%       0.500000\n",
      "75%       1.000000\n",
      "max       1.000000\n"
     ]
    }
   ],
   "source": [
    "#View Dataset and statistics\n",
    "print(combined_dataset.head(10),\n",
    "      '\\n\\n',combined_dataset.shape,\n",
    "      '\\n\\n',combined_dataset.describe())"
   ]
  },
  {
   "cell_type": "code",
   "execution_count": 4,
   "id": "d91cc373",
   "metadata": {},
   "outputs": [
    {
     "data": {
      "text/plain": [
       "<AxesSubplot:xlabel='score', ylabel='count'>"
      ]
     },
     "execution_count": 4,
     "metadata": {},
     "output_type": "execute_result"
    },
    {
     "data": {
      "image/png": "[encoded data removed]",
      "text/plain": [
       "<Figure size 432x288 with 1 Axes>"
      ]
     },
     "metadata": {
      "needs_background": "light"
     },
     "output_type": "display_data"
    }
   ],
   "source": [
    "#View distribution of Scores\n",
    "sns.countplot(data=combined_dataset, x='score')"
   ]
  },
  {
   "cell_type": "code",
   "execution_count": 5,
   "id": "3094039a",
   "metadata": {},
   "outputs": [
    {
     "data": {
      "text/html": [
       "<div>\n",
       "<style scoped>\n",
       "    .dataframe tbody tr th:only-of-type {\n",
       "        vertical-align: middle;\n",
       "    }\n",
       "\n",
       "    .dataframe tbody tr th {\n",
       "        vertical-align: top;\n",
       "    }\n",
       "\n",
       "    .dataframe thead th {\n",
       "        text-align: right;\n",
       "    }\n",
       "</style>\n",
       "<table border=\"1\" class=\"dataframe\">\n",
       "  <thead>\n",
       "    <tr style=\"text-align: right;\">\n",
       "      <th></th>\n",
       "      <th>sentences</th>\n",
       "      <th>score</th>\n",
       "    </tr>\n",
       "  </thead>\n",
       "  <tbody>\n",
       "    <tr>\n",
       "      <th>0</th>\n",
       "      <td>So there is no way for me to plug it in here i...</td>\n",
       "      <td>0</td>\n",
       "    </tr>\n",
       "    <tr>\n",
       "      <th>1</th>\n",
       "      <td>Good case, Excellent value.</td>\n",
       "      <td>1</td>\n",
       "    </tr>\n",
       "    <tr>\n",
       "      <th>2</th>\n",
       "      <td>Great for the jawbone.</td>\n",
       "      <td>1</td>\n",
       "    </tr>\n",
       "    <tr>\n",
       "      <th>3</th>\n",
       "      <td>Tied to charger for conversations lasting more...</td>\n",
       "      <td>0</td>\n",
       "    </tr>\n",
       "    <tr>\n",
       "      <th>4</th>\n",
       "      <td>The mic is great.</td>\n",
       "      <td>1</td>\n",
       "    </tr>\n",
       "    <tr>\n",
       "      <th>...</th>\n",
       "      <td>...</td>\n",
       "      <td>...</td>\n",
       "    </tr>\n",
       "    <tr>\n",
       "      <th>2995</th>\n",
       "      <td>I just got bored watching Jessice Lange take h...</td>\n",
       "      <td>0</td>\n",
       "    </tr>\n",
       "    <tr>\n",
       "      <th>2996</th>\n",
       "      <td>Unfortunately, any virtue in this film's produ...</td>\n",
       "      <td>0</td>\n",
       "    </tr>\n",
       "    <tr>\n",
       "      <th>2997</th>\n",
       "      <td>In a word, it is embarrassing.</td>\n",
       "      <td>0</td>\n",
       "    </tr>\n",
       "    <tr>\n",
       "      <th>2998</th>\n",
       "      <td>Exceptionally bad!</td>\n",
       "      <td>0</td>\n",
       "    </tr>\n",
       "    <tr>\n",
       "      <th>2999</th>\n",
       "      <td>All in all its an insult to one's intelligence...</td>\n",
       "      <td>0</td>\n",
       "    </tr>\n",
       "  </tbody>\n",
       "</table>\n",
       "<p>3000 rows × 2 columns</p>\n",
       "</div>"
      ],
      "text/plain": [
       "                                              sentences  score\n",
       "0     So there is no way for me to plug it in here i...      0\n",
       "1                           Good case, Excellent value.      1\n",
       "2                                Great for the jawbone.      1\n",
       "3     Tied to charger for conversations lasting more...      0\n",
       "4                                     The mic is great.      1\n",
       "...                                                 ...    ...\n",
       "2995  I just got bored watching Jessice Lange take h...      0\n",
       "2996  Unfortunately, any virtue in this film's produ...      0\n",
       "2997                   In a word, it is embarrassing.        0\n",
       "2998                               Exceptionally bad!        0\n",
       "2999  All in all its an insult to one's intelligence...      0\n",
       "\n",
       "[3000 rows x 2 columns]"
      ]
     },
     "execution_count": 5,
     "metadata": {},
     "output_type": "execute_result"
    }
   ],
   "source": [
    "#Remove nulls\n",
    "combined_dataset.dropna()"
   ]
  },
  {
   "cell_type": "code",
   "execution_count": 6,
   "id": "f49c41ac",
   "metadata": {},
   "outputs": [],
   "source": [
    "#Remove any non-string values\n",
    "for x in range(0,len(combined_dataset)-1):\n",
    "    if type(combined_dataset.iloc[x] ['sentences']) != str:\n",
    "        combined_dataset.iloc[x] ['sentences'] = str(combined_dataset.iloc[x] ['sentences'])"
   ]
  },
  {
   "cell_type": "code",
   "execution_count": 7,
   "id": "471918a0",
   "metadata": {},
   "outputs": [
    {
     "name": "stdout",
     "output_type": "stream",
     "text": [
      "\n",
      "The maximum Comment length is: 479\n"
     ]
    }
   ],
   "source": [
    "#Test - Train - Validation Set Creation\n",
    "\n",
    "# X = Comments / Y = pos_neg_ind OR score\n",
    "comments = combined_dataset['sentences']        \n",
    "pos_neg_ind = combined_dataset['score']\n",
    "        \n",
    "        # Get max length of the comments\n",
    "max_comment_length = max(comments.str.len())\n",
    "\n",
    "print(f'\\nThe maximum Comment length is: {max_comment_length}')"
   ]
  },
  {
   "cell_type": "code",
   "execution_count": 8,
   "id": "e2037f55",
   "metadata": {},
   "outputs": [],
   "source": [
    "#Train Test Data\n",
    "comment_train, comment_test, score_train, score_test = train_test_split(\n",
    "                                                            comments, \n",
    "                                                            pos_neg_ind, \n",
    "                                                            test_size = 0.25, \n",
    "                                                            random_state=42)\n",
    "#Validation Set\n",
    "comment_train, comment_validation, score_train, score_validation = train_test_split(\n",
    "                                                                        comment_train, \n",
    "                                                                        score_train, \n",
    "                                                                        random_state = 42, \n",
    "                                                                        test_size = .25, \n",
    "                                                                        stratify=score_train)"
   ]
  },
  {
   "cell_type": "code",
   "execution_count": 9,
   "id": "9d010127",
   "metadata": {},
   "outputs": [
    {
     "name": "stdout",
     "output_type": "stream",
     "text": [
      "\n",
      "Amazon/Yelp/IMDB Vocabulary Size: 3749\n",
      "\n",
      "Word Embedding Length: 8\n"
     ]
    }
   ],
   "source": [
    "#Tokenize and Remove Special Characters\n",
    "tokenizer = Tokenizer(filters = '!\"#$%&()*+,-./:;<=>?@[\\\\]^_`{|}~\\t\\n', lower=True, split = ' ', oov_token='<OOV>')\n",
    "tokenizer.fit_on_texts(comment_train)\n",
    "index_of_words = tokenizer.word_index\n",
    "vocabulary_size = len(index_of_words)+1\n",
    "\n",
    "\n",
    "# Indentify Vocabulary Size\n",
    "print(f'\\nAmazon/Yelp/IMDB Vocabulary Size: {vocabulary_size}')  \n",
    "\n",
    "# Word Embedding Length\n",
    "embedding_length = int(round(np.sqrt(np.sqrt(len(index_of_words)+1)),0))\n",
    "print(f'\\nWord Embedding Length: {embedding_length}')"
   ]
  },
  {
   "cell_type": "code",
   "execution_count": 10,
   "id": "38606bf1",
   "metadata": {},
   "outputs": [
    {
     "name": "stdout",
     "output_type": "stream",
     "text": [
      "\n",
      "The longest sentence length is: 73 \n",
      "The shortest sentence length is: 1\n",
      "The median sentence length is 11.0\n"
     ]
    }
   ],
   "source": [
    "# Length of sentences\n",
    "sentence_length = []\n",
    "for length in comment_train:\n",
    "    sentence_length.append(len(length.split(' ')))\n",
    "\n",
    "print(f'\\nThe longest sentence length is: {np.max(sentence_length)} ')\n",
    "print(f'The shortest sentence length is: {np.min(sentence_length)}')\n",
    "print(f'The median sentence length is {np.median(sentence_length)}')"
   ]
  },
  {
   "cell_type": "code",
   "execution_count": 11,
   "id": "a35bbdec",
   "metadata": {},
   "outputs": [
    {
     "name": "stdout",
     "output_type": "stream",
     "text": [
      "\n",
      "comment_train: 1687\n",
      "comment_test: 750\n",
      "comment_validation: 563\n",
      "\n",
      " [   2  914  915    2   75 1501  168   73  142    3  684    7 1502    2\n",
      "   75  470    3  685    0    0    0    0    0    0    0    0    0    0\n",
      "    0    0    0    0    0    0    0    0    0    0    0    0    0    0\n",
      "    0    0    0    0    0    0    0    0    0    0    0    0    0    0\n",
      "    0    0    0    0    0    0    0    0    0    0    0    0    0    0\n",
      "    0    0    0]\n"
     ]
    }
   ],
   "source": [
    "# Sequence Train / Test / Validation data\n",
    "comment_train_seq_padded = pad_sequences(tokenizer.texts_to_sequences(comment_train), padding = 'post', maxlen = np.max(sentence_length))\n",
    "comment_test_seq_padded = pad_sequences(tokenizer.texts_to_sequences(comment_test), padding = 'post', maxlen = np.max(sentence_length))\n",
    "comment_validate_seq_padded = pad_sequences(tokenizer.texts_to_sequences(comment_validation), padding = 'post', maxlen = np.max(sentence_length))\n",
    "\n",
    "#Print data for splits\n",
    "print(f'\\ncomment_train: {comment_train.shape[0]}\\ncomment_test: {comment_test.shape[0]}\\ncomment_validation: {comment_validation.shape[0]}')\n",
    "\n",
    "# Print Sequence example\n",
    "print('\\n',comment_train_seq_padded[1])"
   ]
  },
  {
   "cell_type": "code",
   "execution_count": 12,
   "id": "94bc8c8c",
   "metadata": {},
   "outputs": [],
   "source": [
    "# Export Data Sets\n",
    "pd.DataFrame(comment_train).to_csv('/Users/bixbypeterson/Desktop/WGU/D213/Task 2 - Sentiment Analysis /comment_train_data.csv')\n",
    "pd.DataFrame(comment_test).to_csv('/Users/bixbypeterson/Desktop/WGU/D213/Task 2 - Sentiment Analysis /comment_test_data.csv')\n",
    "pd.DataFrame(score_train).to_csv('/Users/bixbypeterson/Desktop/WGU/D213/Task 2 - Sentiment Analysis /score_train_data.csv')\n",
    "pd.DataFrame(score_test).to_csv('/Users/bixbypeterson/Desktop/WGU/D213/Task 2 - Sentiment Analysis /score_test_data.csv')\n",
    "pd.DataFrame(comment_validation).to_csv('/Users/bixbypeterson/Desktop/WGU/D213/Task 2 - Sentiment Analysis /comment_validation_data.csv')\n",
    "pd.DataFrame(score_validation).to_csv('/Users/bixbypeterson/Desktop/WGU/D213/Task 2 - Sentiment Analysis /score_validation_data.csv')\n",
    "pd.DataFrame(comment_train_seq_padded).to_csv('/Users/bixbypeterson/Desktop/WGU/D213/Task 2 - Sentiment Analysis /comment_padded_train_data.csv')\n",
    "pd.DataFrame(comment_test_seq_padded).to_csv('/Users/bixbypeterson/Desktop/WGU/D213/Task 2 - Sentiment Analysis /comment_padded_test_data.csv')\n",
    "pd.DataFrame(comment_validate_seq_padded).to_csv('/Users/bixbypeterson/Desktop/WGU/D213/Task 2 - Sentiment Analysis /comment_padded_validate_data.csv')"
   ]
  },
  {
   "cell_type": "code",
   "execution_count": 13,
   "id": "73535312",
   "metadata": {},
   "outputs": [],
   "source": [
    "# Sentiment Analysis \n",
    "       \n",
    "activation = 'sigmoid'   \n",
    "loss = 'binary_crossentropy'\n",
    "optimizer = 'adam'\n",
    "early_stop_mon = EarlyStopping(patience = 2)"
   ]
  },
  {
   "cell_type": "code",
   "execution_count": 14,
   "id": "742a56da",
   "metadata": {},
   "outputs": [
    {
     "name": "stderr",
     "output_type": "stream",
     "text": [
      "2022-08-23 10:43:47.670855: I tensorflow/core/platform/cpu_feature_guard.cc:193] This TensorFlow binary is optimized with oneAPI Deep Neural Network Library (oneDNN) to use the following CPU instructions in performance-critical operations:  AVX2 FMA\n",
      "To enable them in other operations, rebuild TensorFlow with the appropriate compiler flags.\n"
     ]
    }
   ],
   "source": [
    "# Instaniate a Sequential\n",
    "model = Sequential([layers.Embedding(vocabulary_size, embedding_length),\n",
    "                    layers.GlobalAveragePooling1D(),\n",
    "                    layers.Dense (100, activation = 'relu'),\n",
    "                    layers.Dense(50, activation = 'relu'),\n",
    "                    layers.Dense(1, activation = activation)\n",
    "                    ])"
   ]
  },
  {
   "cell_type": "code",
   "execution_count": 15,
   "id": "fc38eb77",
   "metadata": {},
   "outputs": [],
   "source": [
    "# Compile the model\n",
    "model.compile(loss = loss, optimizer = optimizer, metrics = ['accuracy'])"
   ]
  },
  {
   "cell_type": "code",
   "execution_count": 16,
   "id": "23a25789",
   "metadata": {},
   "outputs": [
    {
     "name": "stdout",
     "output_type": "stream",
     "text": [
      "Model: \"sequential\"\n",
      "_________________________________________________________________\n",
      " Layer (type)                Output Shape              Param #   \n",
      "=================================================================\n",
      " embedding (Embedding)       (None, None, 8)           29992     \n",
      "                                                                 \n",
      " global_average_pooling1d (G  (None, 8)                0         \n",
      " lobalAveragePooling1D)                                          \n",
      "                                                                 \n",
      " dense (Dense)               (None, 100)               900       \n",
      "                                                                 \n",
      " dense_1 (Dense)             (None, 50)                5050      \n",
      "                                                                 \n",
      " dense_2 (Dense)             (None, 1)                 51        \n",
      "                                                                 \n",
      "=================================================================\n",
      "Total params: 35,993\n",
      "Trainable params: 35,993\n",
      "Non-trainable params: 0\n",
      "_________________________________________________________________\n"
     ]
    }
   ],
   "source": [
    "# Get Model Summary\n",
    "model.summary()"
   ]
  },
  {
   "cell_type": "code",
   "execution_count": 17,
   "id": "534748fe",
   "metadata": {},
   "outputs": [
    {
     "name": "stdout",
     "output_type": "stream",
     "text": [
      "Epoch 1/20\n",
      "37/37 [==============================] - 1s 9ms/step - loss: 0.6933 - accuracy: 0.4949 - val_loss: 0.6928 - val_accuracy: 0.5108\n",
      "Epoch 2/20\n",
      "37/37 [==============================] - 0s 5ms/step - loss: 0.6930 - accuracy: 0.5203 - val_loss: 0.6926 - val_accuracy: 0.5108\n",
      "Epoch 3/20\n",
      "37/37 [==============================] - 0s 4ms/step - loss: 0.6923 - accuracy: 0.5076 - val_loss: 0.6915 - val_accuracy: 0.5108\n",
      "Epoch 4/20\n",
      "37/37 [==============================] - 0s 4ms/step - loss: 0.6876 - accuracy: 0.5661 - val_loss: 0.6857 - val_accuracy: 0.6706\n",
      "Epoch 5/20\n",
      "37/37 [==============================] - 0s 4ms/step - loss: 0.6644 - accuracy: 0.6610 - val_loss: 0.6594 - val_accuracy: 0.5858\n",
      "Epoch 6/20\n",
      "37/37 [==============================] - 0s 5ms/step - loss: 0.5882 - accuracy: 0.8008 - val_loss: 0.5913 - val_accuracy: 0.7613\n",
      "Epoch 7/20\n",
      "37/37 [==============================] - 0s 3ms/step - loss: 0.4615 - accuracy: 0.8500 - val_loss: 0.5518 - val_accuracy: 0.7101\n",
      "Epoch 8/20\n",
      "37/37 [==============================] - 0s 4ms/step - loss: 0.3160 - accuracy: 0.9263 - val_loss: 0.4779 - val_accuracy: 0.7771\n",
      "Epoch 9/20\n",
      "37/37 [==============================] - 0s 4ms/step - loss: 0.2184 - accuracy: 0.9559 - val_loss: 0.4505 - val_accuracy: 0.7968\n",
      "Epoch 10/20\n",
      "37/37 [==============================] - 0s 4ms/step - loss: 0.1551 - accuracy: 0.9644 - val_loss: 0.4513 - val_accuracy: 0.8087\n",
      "Epoch 11/20\n",
      "37/37 [==============================] - 0s 4ms/step - loss: 0.1136 - accuracy: 0.9763 - val_loss: 0.4637 - val_accuracy: 0.8087\n"
     ]
    }
   ],
   "source": [
    "# Fit the model\n",
    "history = model.fit(comment_train_seq_padded, score_train, batch_size = 32, epochs = 20, validation_split=0.3, callbacks=[early_stop_mon], verbose=True)"
   ]
  },
  {
   "cell_type": "code",
   "execution_count": 18,
   "id": "6253c7aa",
   "metadata": {},
   "outputs": [
    {
     "data": {
      "image/png": "[encoded data removed]",
      "text/plain": [
       "<Figure size 432x288 with 1 Axes>"
      ]
     },
     "metadata": {
      "needs_background": "light"
     },
     "output_type": "display_data"
    }
   ],
   "source": [
    "# Visualize Model Performance\n",
    "plt.plot(history.history['accuracy'])\n",
    "plt.plot(history.history['val_accuracy'])\n",
    "plt.title('model accuracy')\n",
    "plt.ylabel('accuracy')\n",
    "plt.xlabel('epoch')\n",
    "plt.legend(['accuracy', 'val_accuracy'], loc='upper left')\n",
    "plt.show()"
   ]
  },
  {
   "cell_type": "code",
   "execution_count": 19,
   "id": "dbd3a823",
   "metadata": {},
   "outputs": [
    {
     "name": "stdout",
     "output_type": "stream",
     "text": [
      "\n",
      "Test Loss: 0.4367081820964813 / Test Accuracy: 0.8040000200271606\n",
      "\n",
      "Validation Loss: 0.46567535400390625 / Validation Accuracy: 0.80817049741745\n"
     ]
    }
   ],
   "source": [
    "# Evaluate Model on Test data\n",
    "model_evaluate_test = model.evaluate(comment_test_seq_padded, score_test, verbose = 0)\n",
    "print(f'\\nTest Loss: {model_evaluate_test[0]} / Test Accuracy: {model_evaluate_test[1]}')\n",
    "\n",
    "# Evaulate model on Validation data\n",
    "model_evaluate_validation = model.evaluate(comment_validate_seq_padded, score_validation, verbose = 0)\n",
    "print(f'\\nValidation Loss: {model_evaluate_validation[0]} / Validation Accuracy: {model_evaluate_validation[1]}')"
   ]
  },
  {
   "cell_type": "code",
   "execution_count": null,
   "id": "e2ffe686",
   "metadata": {},
   "outputs": [],
   "source": []
  },
  {
   "cell_type": "code",
   "execution_count": null,
   "id": "a02ef854",
   "metadata": {},
   "outputs": [],
   "source": []
  }
 ],
 "metadata": {
  "kernelspec": {
   "display_name": "Python 3 (ipykernel)",
   "language": "python",
   "name": "python3"
  },
  "language_info": {
   "codemirror_mode": {
    "name": "ipython",
    "version": 3
   },
   "file_extension": ".py",
   "mimetype": "text/x-python",
   "name": "python",
   "nbconvert_exporter": "python",
   "pygments_lexer": "ipython3",
   "version": "3.9.12"
  }
 },
 "nbformat": 4,
 "nbformat_minor": 5
}
